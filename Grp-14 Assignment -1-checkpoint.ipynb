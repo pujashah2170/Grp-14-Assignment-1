{
 "cells": [
  {
   "cell_type": "markdown",
   "id": "08e01d59",
   "metadata": {},
   "source": [
    "# Topic : Gram-Schmidt Orthonormalization/Orthogonalisation\n",
    "\n",
    "\n",
    "# Group No.-14\n",
    "\n",
    "## Author :\n",
    "### 1.Shah Puja \n",
    "### 2.Patil Priyanka\n",
    "### 3.Patil Sharda\n",
    "### 4.Patil Gayatri "
   ]
  },
  {
   "cell_type": "markdown",
   "id": "2fbc1e78",
   "metadata": {},
   "source": [
    "### Q. Let X1=(1,0,1,1)' ,X2=(-1,0,-1,1)' ,X3=(0,-1,1,1)' and X4=(0,0,1,0)' are linearly independent set of vectors of                       R^4.Find an Orthonormal basis of R^4 starting with {X1,X2,X3,X4}"
   ]
  },
  {
   "cell_type": "code",
   "execution_count": 12,
   "id": "093e94e9",
   "metadata": {},
   "outputs": [
    {
     "data": {
      "text/plain": [
       "matrix([[ 1, -1,  0,  0],\n",
       "        [ 0,  0, -1,  0],\n",
       "        [ 1, -1,  1,  1],\n",
       "        [ 1,  1,  1,  0]])"
      ]
     },
     "execution_count": 12,
     "metadata": {},
     "output_type": "execute_result"
    }
   ],
   "source": [
    "import numpy as np\n",
    "A=np.matrix([1,-1,0,0,0,0,-1,0,1,-1,1,1,1,1,1,0]).reshape(4,4)\n",
    "A"
   ]
  },
  {
   "cell_type": "code",
   "execution_count": 13,
   "id": "afbabce1",
   "metadata": {},
   "outputs": [
    {
     "name": "stdout",
     "output_type": "stream",
     "text": [
      "(4, 4)\n",
      "-2.0\n"
     ]
    }
   ],
   "source": [
    "# size of matrix A\n",
    "print(A.shape)\n",
    "print(np.linalg.det(A))         # To check matrix a is nonsigular or not"
   ]
  },
  {
   "cell_type": "code",
   "execution_count": 14,
   "id": "4fd6dfd9",
   "metadata": {},
   "outputs": [
    {
     "data": {
      "text/plain": [
       "matrix([[0.57735027],\n",
       "        [0.        ],\n",
       "        [0.57735027],\n",
       "        [0.57735027]])"
      ]
     },
     "execution_count": 14,
     "metadata": {},
     "output_type": "execute_result"
    }
   ],
   "source": [
    "X=A[:,0]                      # 1st column of matrix A\n",
    "B=(X/np.linalg.norm(X))       # norm of vector x i.e ||x||=(1^2+1^2+1^2)^(0.5)\n",
    "B                          # 1st column of orthonormal matrix\n"
   ]
  },
  {
   "cell_type": "code",
   "execution_count": 15,
   "id": "64fb74ba",
   "metadata": {},
   "outputs": [
    {
     "ename": "IndexError",
     "evalue": "index 1 is out of bounds for axis 1 with size 1",
     "output_type": "error",
     "traceback": [
      "\u001b[1;31m---------------------------------------------------------------------------\u001b[0m",
      "\u001b[1;31mIndexError\u001b[0m                                Traceback (most recent call last)",
      "\u001b[1;32m<ipython-input-15-fdb9c253fafe>\u001b[0m in \u001b[0;36m<module>\u001b[1;34m\u001b[0m\n\u001b[0;32m      7\u001b[0m         \u001b[0mz1\u001b[0m\u001b[1;33m=\u001b[0m\u001b[0mnp\u001b[0m\u001b[1;33m.\u001b[0m\u001b[0madd\u001b[0m\u001b[1;33m(\u001b[0m\u001b[0mz1\u001b[0m\u001b[1;33m,\u001b[0m\u001b[0mp\u001b[0m\u001b[1;33m)\u001b[0m\u001b[1;33m\u001b[0m\u001b[1;33m\u001b[0m\u001b[0m\n\u001b[0;32m      8\u001b[0m \u001b[1;33m\u001b[0m\u001b[0m\n\u001b[1;32m----> 9\u001b[1;33m     \u001b[0mB\u001b[0m\u001b[1;33m[\u001b[0m\u001b[1;33m:\u001b[0m\u001b[1;33m,\u001b[0m\u001b[0mi\u001b[0m\u001b[1;33m]\u001b[0m\u001b[1;33m=\u001b[0m\u001b[0mnp\u001b[0m\u001b[1;33m.\u001b[0m\u001b[0msubtract\u001b[0m\u001b[1;33m(\u001b[0m\u001b[0mA\u001b[0m\u001b[1;33m[\u001b[0m\u001b[1;33m:\u001b[0m\u001b[1;33m,\u001b[0m\u001b[0mi\u001b[0m\u001b[1;33m]\u001b[0m\u001b[1;33m,\u001b[0m\u001b[0mz1\u001b[0m\u001b[1;33m)\u001b[0m\u001b[1;33m\u001b[0m\u001b[1;33m\u001b[0m\u001b[0m\n\u001b[0m\u001b[0;32m     10\u001b[0m     \u001b[0mB\u001b[0m\u001b[1;33m[\u001b[0m\u001b[1;33m:\u001b[0m\u001b[1;33m,\u001b[0m\u001b[0mi\u001b[0m\u001b[1;33m]\u001b[0m\u001b[1;33m=\u001b[0m\u001b[0mnp\u001b[0m\u001b[1;33m.\u001b[0m\u001b[0mdivide\u001b[0m\u001b[1;33m(\u001b[0m\u001b[0mB\u001b[0m\u001b[1;33m[\u001b[0m\u001b[1;33m:\u001b[0m\u001b[1;33m,\u001b[0m\u001b[0mi\u001b[0m\u001b[1;33m]\u001b[0m\u001b[1;33m,\u001b[0m\u001b[0mnp\u001b[0m\u001b[1;33m.\u001b[0m\u001b[0mlinalg\u001b[0m\u001b[1;33m.\u001b[0m\u001b[0mnorm\u001b[0m\u001b[1;33m(\u001b[0m\u001b[0mB\u001b[0m\u001b[1;33m[\u001b[0m\u001b[1;33m:\u001b[0m\u001b[1;33m,\u001b[0m\u001b[0mi\u001b[0m\u001b[1;33m]\u001b[0m\u001b[1;33m)\u001b[0m\u001b[1;33m)\u001b[0m\u001b[1;33m\u001b[0m\u001b[1;33m\u001b[0m\u001b[0m\n\u001b[0;32m     11\u001b[0m \u001b[0mprint\u001b[0m\u001b[1;33m(\u001b[0m\u001b[1;34m\"The given matrix is :\"\u001b[0m\u001b[1;33m,\u001b[0m\u001b[0mA\u001b[0m\u001b[1;33m)\u001b[0m\u001b[1;33m\u001b[0m\u001b[1;33m\u001b[0m\u001b[0m\n",
      "\u001b[1;32mc:\\users\\shubham shah\\appdata\\local\\programs\\python\\python39\\lib\\site-packages\\numpy\\matrixlib\\defmatrix.py\u001b[0m in \u001b[0;36m__getitem__\u001b[1;34m(self, index)\u001b[0m\n\u001b[0;32m    191\u001b[0m \u001b[1;33m\u001b[0m\u001b[0m\n\u001b[0;32m    192\u001b[0m         \u001b[1;32mtry\u001b[0m\u001b[1;33m:\u001b[0m\u001b[1;33m\u001b[0m\u001b[1;33m\u001b[0m\u001b[0m\n\u001b[1;32m--> 193\u001b[1;33m             \u001b[0mout\u001b[0m \u001b[1;33m=\u001b[0m \u001b[0mN\u001b[0m\u001b[1;33m.\u001b[0m\u001b[0mndarray\u001b[0m\u001b[1;33m.\u001b[0m\u001b[0m__getitem__\u001b[0m\u001b[1;33m(\u001b[0m\u001b[0mself\u001b[0m\u001b[1;33m,\u001b[0m \u001b[0mindex\u001b[0m\u001b[1;33m)\u001b[0m\u001b[1;33m\u001b[0m\u001b[1;33m\u001b[0m\u001b[0m\n\u001b[0m\u001b[0;32m    194\u001b[0m         \u001b[1;32mfinally\u001b[0m\u001b[1;33m:\u001b[0m\u001b[1;33m\u001b[0m\u001b[1;33m\u001b[0m\u001b[0m\n\u001b[0;32m    195\u001b[0m             \u001b[0mself\u001b[0m\u001b[1;33m.\u001b[0m\u001b[0m_getitem\u001b[0m \u001b[1;33m=\u001b[0m \u001b[1;32mFalse\u001b[0m\u001b[1;33m\u001b[0m\u001b[1;33m\u001b[0m\u001b[0m\n",
      "\u001b[1;31mIndexError\u001b[0m: index 1 is out of bounds for axis 1 with size 1"
     ]
    }
   ],
   "source": [
    "# TO find other columns of orthonormal matrix\n",
    "#formula for Gramm-schmidt orthogonal matrix Zk=Xk-sum(<Xk,Zj>/<Zj,Zj>)*Zj  j=1:k-1,k=1:n\n",
    "for i in range(1,3):\n",
    "    z1=np.zeros((4,1)).reshape(4,1)\n",
    "    for j in range(0,i-1):\n",
    "        p=np.divide(np.vdot(A[:,i],B[:,j]),np.vdot(B[:,j],B[:,j])) * B[:,j]\n",
    "        z1=np.add(z1,p)\n",
    "    \n",
    "    B[:,i]=np.subtract(A[:,i],z1)\n",
    "    B[:,i]=np.divide(B[:,i],np.linalg.norm(B[:,i]))\n",
    "print(\"The given matrix is :\",A)\n",
    "print(\"The orthonormalised matrix is :\",B)\n",
    "\n",
    "                     \n",
    "\n",
    "\n"
   ]
  },
  {
   "cell_type": "markdown",
   "id": "b2f66f30",
   "metadata": {},
   "source": [
    "###  Q. For any x vector belongs to R^n(n>=1),verify that I-(2xx')/(x'x) is an orthogonal matrix or not"
   ]
  },
  {
   "cell_type": "code",
   "execution_count": 16,
   "id": "dcb31678",
   "metadata": {},
   "outputs": [
    {
     "data": {
      "text/plain": [
       "array([[3],\n",
       "       [2],\n",
       "       [4]])"
      ]
     },
     "execution_count": 16,
     "metadata": {},
     "output_type": "execute_result"
    }
   ],
   "source": [
    "C=np.random.randint(1,5,size=(3,1))\n",
    "C"
   ]
  },
  {
   "cell_type": "code",
   "execution_count": 17,
   "id": "24a46642",
   "metadata": {},
   "outputs": [
    {
     "data": {
      "text/plain": [
       "array([[1., 0., 0.],\n",
       "       [0., 1., 0.],\n",
       "       [0., 0., 1.]])"
      ]
     },
     "execution_count": 17,
     "metadata": {},
     "output_type": "execute_result"
    }
   ],
   "source": [
    "I=np.identity(3)\n",
    "I"
   ]
  },
  {
   "cell_type": "code",
   "execution_count": 18,
   "id": "26590453",
   "metadata": {},
   "outputs": [
    {
     "name": "stdout",
     "output_type": "stream",
     "text": [
      "[[ 0.37931034 -0.4137931  -0.82758621]\n",
      " [-0.4137931   0.72413793 -0.55172414]\n",
      " [-0.82758621 -0.55172414 -0.10344828]]\n"
     ]
    }
   ],
   "source": [
    "t2=np.matmul(C,np.transpose(C))\n",
    "t3=np.matmul(np.transpose(C),C)\n",
    "t5=(2*t2)/t3\n",
    "matrix=np.subtract(I,t5)\n",
    "print(matrix)"
   ]
  },
  {
   "cell_type": "code",
   "execution_count": 19,
   "id": "39346204",
   "metadata": {},
   "outputs": [
    {
     "name": "stdout",
     "output_type": "stream",
     "text": [
      "The given matrix is not orthogonal:    [[ 0.37931034 -0.4137931  -0.82758621]\n",
      " [-0.4137931   0.72413793 -0.55172414]\n",
      " [-0.82758621 -0.55172414 -0.10344828]]\n"
     ]
    }
   ],
   "source": [
    "matrix1=np.vdot(matrix,matrix)\n",
    "\n",
    "if(matrix1==0):\n",
    "    print(\"The given matrix is orthogonal :   \",    matrix)\n",
    "else:\n",
    "    print(\"The given matrix is not orthogonal:   \",   matrix )\n"
   ]
  },
  {
   "cell_type": "code",
   "execution_count": null,
   "id": "a20879e5",
   "metadata": {},
   "outputs": [],
   "source": []
  }
 ],
 "metadata": {
  "kernelspec": {
   "display_name": "Python 3",
   "language": "python",
   "name": "python3"
  },
  "language_info": {
   "codemirror_mode": {
    "name": "ipython",
    "version": 3
   },
   "file_extension": ".py",
   "mimetype": "text/x-python",
   "name": "python",
   "nbconvert_exporter": "python",
   "pygments_lexer": "ipython3",
   "version": "3.9.5"
  }
 },
 "nbformat": 4,
 "nbformat_minor": 5
}
